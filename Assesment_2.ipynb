{
  "nbformat": 4,
  "nbformat_minor": 0,
  "metadata": {
    "colab": {
      "provenance": []
    },
    "kernelspec": {
      "name": "python3",
      "display_name": "Python 3"
    },
    "language_info": {
      "name": "python"
    }
  },
  "cells": [
    {
      "cell_type": "markdown",
      "source": [],
      "metadata": {
        "id": "g5Lei-plK3qZ"
      }
    },
    {
      "cell_type": "code",
      "source": [
        "# Import libraries\n",
        "from sklearn.datasets import load_iris\n",
        "from sklearn.model_selection import train_test_split\n",
        "from sklearn.naive_bayes import GaussianNB\n",
        "import pandas as pd\n",
        "\n",
        "# Load the iris dataset\n",
        "iris = load_iris()\n",
        "X = iris.data\n",
        "y = iris.target\n",
        "\n",
        "# Split into train/test\n",
        "X_train, X_test, y_train, y_test = train_test_split(X, y, test_size=0.3, random_state=42)\n",
        "\n",
        "# Initialize Gaussian Naive Bayes\n",
        "gnb = GaussianNB()\n",
        "\n",
        "# Train the model\n",
        "gnb.fit(X_train, y_train)\n",
        "\n",
        "# Get predicted class labels\n",
        "y_pred = gnb.predict(X_test)\n",
        "\n",
        "# Get predicted probabilities\n",
        "y_proba = gnb.predict_proba(X_test)\n",
        "\n",
        "# Display predicted probabilities for first 5 test samples\n",
        "proba_df = pd.DataFrame(y_proba, columns=iris.target_names)\n",
        "print(\"Posterior Probabilities for first 5 test samples:\")\n",
        "print(proba_df.head())\n",
        "\n",
        "# Show actual vs predicted labels for first 5 test samples\n",
        "print(\"\\nActual vs Predicted:\")\n",
        "for actual, predicted in zip(y_test[:5], y_pred[:5]):\n",
        "    print(f\"Actual: {iris.target_names[actual]}, Predicted: {iris.target_names[predicted]}\")\n"
      ],
      "metadata": {
        "colab": {
          "base_uri": "https://localhost:8080/"
        },
        "id": "g7-NlYn2KL6I",
        "outputId": "26320511-11e0-4274-d1a0-14172d00f23b"
      },
      "execution_count": 2,
      "outputs": [
        {
          "output_type": "stream",
          "name": "stdout",
          "text": [
            "Posterior Probabilities for first 5 test samples:\n",
            "          setosa    versicolor     virginica\n",
            "0   4.158800e-88  9.955278e-01  4.472166e-03\n",
            "1   1.000000e+00  1.310312e-13  2.217722e-20\n",
            "2  9.831702e-285  2.701386e-12  1.000000e+00\n",
            "3   9.547453e-92  9.748614e-01  2.513857e-02\n",
            "4  1.086796e-103  8.319107e-01  1.680893e-01\n",
            "\n",
            "Actual vs Predicted:\n",
            "Actual: versicolor, Predicted: versicolor\n",
            "Actual: setosa, Predicted: setosa\n",
            "Actual: virginica, Predicted: virginica\n",
            "Actual: versicolor, Predicted: versicolor\n",
            "Actual: versicolor, Predicted: versicolor\n"
          ]
        }
      ]
    },
    {
      "cell_type": "code",
      "source": [
        "# Import required libraries\n",
        "from sklearn.datasets import load_iris\n",
        "from sklearn.model_selection import train_test_split\n",
        "from sklearn.naive_bayes import GaussianNB\n",
        "from sklearn.metrics import accuracy_score, classification_report, confusion_matrix\n",
        "\n",
        "# Load the iris dataset\n",
        "iris = load_iris()\n",
        "X = iris.data   # Features\n",
        "y = iris.target # Labels\n",
        "\n",
        "# Split the data into train and test sets (70% train, 30% test)\n",
        "X_train, X_test, y_train, y_test = train_test_split(X, y, test_size=0.3, random_state=42)\n",
        "\n",
        "# Create a Gaussian Naive Bayes classifier\n",
        "gnb = GaussianNB()\n",
        "\n",
        "# Train the classifier\n",
        "gnb.fit(X_train, y_train)\n",
        "\n",
        "# Make predictions on the test set\n",
        "y_pred = gnb.predict(X_test)\n",
        "\n",
        "# Evaluate the classifier\n",
        "accuracy = accuracy_score(y_test, y_pred)\n",
        "print(f\"Accuracy: {accuracy:.2f}\")\n",
        "\n",
        "print(\"\\nClassification Report:\")\n",
        "print(classification_report(y_test, y_pred, target_names=iris.target_names))\n",
        "\n",
        "print(\"\\nConfusion Matrix:\")\n",
        "print(confusion_matrix(y_test, y_pred))\n"
      ],
      "metadata": {
        "colab": {
          "base_uri": "https://localhost:8080/"
        },
        "id": "JwTmsl8OKvUr",
        "outputId": "6ccdcc96-629f-4c58-bc14-e88b609c8eb7"
      },
      "execution_count": 3,
      "outputs": [
        {
          "output_type": "stream",
          "name": "stdout",
          "text": [
            "Accuracy: 0.98\n",
            "\n",
            "Classification Report:\n",
            "              precision    recall  f1-score   support\n",
            "\n",
            "      setosa       1.00      1.00      1.00        19\n",
            "  versicolor       1.00      0.92      0.96        13\n",
            "   virginica       0.93      1.00      0.96        13\n",
            "\n",
            "    accuracy                           0.98        45\n",
            "   macro avg       0.98      0.97      0.97        45\n",
            "weighted avg       0.98      0.98      0.98        45\n",
            "\n",
            "\n",
            "Confusion Matrix:\n",
            "[[19  0  0]\n",
            " [ 0 12  1]\n",
            " [ 0  0 13]]\n"
          ]
        }
      ]
    }
  ]
}